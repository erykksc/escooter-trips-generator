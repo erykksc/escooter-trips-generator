{
 "cells": [
  {
   "cell_type": "code",
   "execution_count": 1,
   "id": "ff1d14b7-3e1b-47db-91d0-de90addb55dc",
   "metadata": {},
   "outputs": [],
   "source": [
    "import numpy as np\n",
    "import matplotlib.pyplot as plt\n",
    "from scipy.stats import lognorm\n",
    "import ipywidgets as widgets\n",
    "from ipywidgets import interact"
   ]
  },
  {
   "cell_type": "code",
   "execution_count": 5,
   "id": "e562b907-1423-4678-9616-8ede7090c227",
   "metadata": {},
   "outputs": [
    {
     "data": {
      "application/vnd.jupyter.widget-view+json": {
       "model_id": "9210cfaa9731443689b5ab40256611f8",
       "version_major": 2,
       "version_minor": 0
      },
      "text/plain": [
       "interactive(children=(FloatSlider(value=0.5, description='shape', max=2.0, min=0.1), FloatSlider(value=2000.0,…"
      ]
     },
     "metadata": {},
     "output_type": "display_data"
    }
   ],
   "source": [
    "# Define interactive plotting function\n",
    "def plot_lognormal(shape=0.5, scale_meters=2000):\n",
    "    # Define x range (in meters)\n",
    "    x = np.linspace(1, 15000, 1000)\n",
    "    pdf = lognorm.pdf(x, shape, loc=0, scale=scale_meters)\n",
    "    \n",
    "    # Compute parameters\n",
    "    mu = np.log(scale_meters)\n",
    "    \n",
    "    # Mode\n",
    "    mode_x = scale_meters * np.exp(-shape**2)\n",
    "    mode_y = lognorm.pdf(mode_x, shape, loc=0, scale=scale_meters)\n",
    "    \n",
    "    # Median\n",
    "    median_x = scale_meters\n",
    "    median_y = lognorm.pdf(median_x, shape, loc=0, scale=scale_meters)\n",
    "    \n",
    "    # Mean\n",
    "    mean_x = scale_meters * np.exp(shape**2 / 2)\n",
    "    mean_y = lognorm.pdf(mean_x, shape, loc=0, scale=scale_meters)\n",
    "    \n",
    "    # Plot PDF\n",
    "    plt.figure(figsize=(8,4))\n",
    "    plt.plot(x, pdf, color='crimson', lw=2, label='PDF')\n",
    "    plt.fill_between(x, pdf, alpha=0.3, color='crimson')\n",
    "    \n",
    "    # Plot mode\n",
    "    plt.scatter([mode_x], [mode_y], color='blue', s=60, label=f'Mode = {mode_x:.0f} m')\n",
    "    plt.axvline(mode_x, color='blue', linestyle='--', alpha=0.7)\n",
    "    \n",
    "    # Plot median\n",
    "    plt.scatter([median_x], [median_y], color='green', s=60, label=f'Median = {median_x:.0f} m')\n",
    "    plt.axvline(median_x, color='green', linestyle='--', alpha=0.7)\n",
    "    \n",
    "    # Plot mean\n",
    "    plt.scatter([mean_x], [mean_y], color='purple', s=60, label=f'Mean = {mean_x:.0f} m')\n",
    "    plt.axvline(mean_x, color='purple', linestyle='--', alpha=0.7)\n",
    "    \n",
    "    plt.title(f'Log-normal PDF\\nshape={shape:.2f}, scale={scale_meters:.0f} m')\n",
    "    plt.xlabel('Distance (meters)')\n",
    "    plt.ylabel('Density')\n",
    "    plt.xlim(0, 15000)\n",
    "    plt.ylim(0, None)\n",
    "    plt.legend()\n",
    "    plt.show()\n",
    "    \n",
    "    # Print values below plot\n",
    "    print(f\"Mode: {mode_x:.2f} meters\")\n",
    "    print(f\"Median: {median_x:.2f} meters\")\n",
    "    print(f\"Mean: {mean_x:.2f} meters\")\n",
    "\n",
    "# Create interactive sliders\n",
    "interact(\n",
    "    plot_lognormal,\n",
    "    shape=widgets.FloatSlider(value=0.5, min=0.1, max=2.0, step=0.1),\n",
    "    scale_meters=widgets.FloatSlider(value=2000, min=500, max=15000, step=100),\n",
    ");\n"
   ]
  },
  {
   "cell_type": "code",
   "execution_count": null,
   "id": "75f5c91f-81d5-47e6-9fc7-8e7eb9802246",
   "metadata": {},
   "outputs": [],
   "source": []
  }
 ],
 "metadata": {
  "kernelspec": {
   "display_name": "Python 3 (ipykernel)",
   "language": "python",
   "name": "python3"
  },
  "language_info": {
   "codemirror_mode": {
    "name": "ipython",
    "version": 3
   },
   "file_extension": ".py",
   "mimetype": "text/x-python",
   "name": "python",
   "nbconvert_exporter": "python",
   "pygments_lexer": "ipython3",
   "version": "3.13.5"
  }
 },
 "nbformat": 4,
 "nbformat_minor": 5
}
